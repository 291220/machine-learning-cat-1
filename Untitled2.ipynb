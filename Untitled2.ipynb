{
  "nbformat": 4,
  "nbformat_minor": 0,
  "metadata": {
    "colab": {
      "provenance": []
    },
    "kernelspec": {
      "name": "python3",
      "display_name": "Python 3"
    },
    "language_info": {
      "name": "python"
    }
  },
  "cells": [
    {
      "cell_type": "code",
      "execution_count": 1,
      "metadata": {
        "colab": {
          "base_uri": "https://localhost:8080/"
        },
        "id": "3e4N4nYFP56X",
        "outputId": "4ec8cd5a-3e61-47c1-931d-05bc349b5ee3"
      },
      "outputs": [
        {
          "output_type": "stream",
          "name": "stdout",
          "text": [
            "Frequent Itemsets:\n",
            "    support       itemsets\n",
            "0    0.750        (bread)\n",
            "1    0.375       (butter)\n",
            "2    0.375         (eggs)\n",
            "3    0.750         (milk)\n",
            "4    0.500  (bread, milk)\n",
            "5    0.375   (eggs, milk)\n",
            "\n",
            "Association Rules:\n",
            "   antecedents consequents  support  confidence      lift\n",
            "0     (bread)      (milk)    0.500    0.666667  0.888889\n",
            "1      (milk)     (bread)    0.500    0.666667  0.888889\n",
            "2      (eggs)      (milk)    0.375    1.000000  1.333333\n"
          ]
        }
      ],
      "source": [
        "import pandas as pd\n",
        "from mlxtend.frequent_patterns import apriori, association_rules\n",
        "from mlxtend.preprocessing import TransactionEncoder\n",
        "\n",
        "# Sample dataset\n",
        "dataset = [\n",
        "    ['milk', 'bread', 'eggs'],\n",
        "    ['milk', 'bread'],\n",
        "    ['milk', 'eggs'],\n",
        "    ['bread', 'butter'],\n",
        "    ['bread', 'milk', 'butter'],\n",
        "    ['bread'],\n",
        "    ['milk', 'butter'],\n",
        "    ['bread', 'milk', 'eggs'],\n",
        "]\n",
        "\n",
        "# One-hot encode the data\n",
        "te = TransactionEncoder()\n",
        "te_data = te.fit(dataset).transform(dataset)\n",
        "df = pd.DataFrame(te_data, columns=te.columns_)\n",
        "\n",
        "# Apply Apriori\n",
        "frequent_items = apriori(df, min_support=0.3, use_colnames=True)\n",
        "print(\"Frequent Itemsets:\\n\", frequent_items)\n",
        "\n",
        "# Generate Rules\n",
        "rules = association_rules(frequent_items, metric=\"confidence\", min_threshold=0.6)\n",
        "print(\"\\nAssociation Rules:\\n\", rules[['antecedents', 'consequents', 'support', 'confidence', 'lift']])\n"
      ]
    }
  ]
}